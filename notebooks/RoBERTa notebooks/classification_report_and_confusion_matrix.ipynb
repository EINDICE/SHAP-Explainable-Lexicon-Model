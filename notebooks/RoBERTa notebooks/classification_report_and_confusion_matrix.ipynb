{
  "nbformat": 4,
  "nbformat_minor": 0,
  "metadata": {
    "colab": {
      "provenance": [],
      "toc_visible": true,
      "include_colab_link": true
    },
    "kernelspec": {
      "name": "python3",
      "display_name": "Python 3"
    },
    "language_info": {
      "name": "python"
    }
  },
  "cells": [
    {
      "cell_type": "markdown",
      "metadata": {
        "id": "view-in-github",
        "colab_type": "text"
      },
      "source": [
        "<a href=\"https://colab.research.google.com/github/hristijanpeshov/SHAP-Explainable-Lexicon-Model/blob/master/notebooks/RoBERTa%20notebooks/classification_report_and_confusion_matrix.ipynb\" target=\"_parent\"><img src=\"https://colab.research.google.com/assets/colab-badge.svg\" alt=\"Open In Colab\"/></a>"
      ]
    },
    {
      "cell_type": "markdown",
      "source": [
        "# User Input"
      ],
      "metadata": {
        "id": "E26j4RXCHohS"
      }
    },
    {
      "cell_type": "code",
      "source": [
        "# enter the results folder for the lexicon sources\n",
        "lexicons_folder_map = {\n",
        "    'nasdaq': '/content/drive/MyDrive/nasdaq/concatenated datasets/results',\n",
        "    'fpb': '/content/drive/MyDrive/fpb/concatenated datasets/results',\n",
        "    'sentfin': '/content/drive/MyDrive/sentfin/concatenated datasets/results'\n",
        "}\n",
        "\n",
        "\n",
        "# Please choose the desired combination for extracting the classification report\n",
        "# and confusion matrix\n",
        "\n",
        "# enter the source lexicon name\n",
        "# allowed values for source_lexicon: nasdaq, fpb or sentfin\n",
        "source_lexicon = 'nasdaq'\n",
        "\n",
        "# enter the type of the lexicon\n",
        "# allowed values for normalized: True, False\n",
        "normalized = False\n",
        "\n",
        "# enter the evaluation dataset name\n",
        "# allowed values for eval_dataset: fpb_fiqa, dev_df, financial_phrase_bank, fiqa_labeled_df\n",
        "eval_dataset = 'financial_phrase_bank'"
      ],
      "metadata": {
        "id": "LIECnGc5JSTJ"
      },
      "execution_count": null,
      "outputs": []
    },
    {
      "cell_type": "markdown",
      "source": [
        "# Classification Report and Confusion Matrix"
      ],
      "metadata": {
        "id": "oxKS7clb6qON"
      }
    },
    {
      "cell_type": "code",
      "source": [
        "import pandas as pd\n",
        "import re\n",
        "\n",
        "def find_and_print_segment(line, start_pattern, end_pattern, title):\n",
        "  start_index = line.find(start_pattern)\n",
        "  end_index = line.find(end_pattern)\n",
        "\n",
        "  if start_index != -1 and end_index != -1:\n",
        "      extracted_content = line[start_index + len(start_pattern):end_index]\n",
        "      extracted_content = extracted_content.replace('\\\\n', '\\n')\n",
        "\n",
        "      print(title)\n",
        "      if title == 'Confusion Matrix:':\n",
        "        pattern = r'\\[[^]]+\\]'\n",
        "\n",
        "        matches = re.findall(pattern, extracted_content)\n",
        "\n",
        "        for match in matches:\n",
        "            print(match)\n",
        "      else:\n",
        "        print(extracted_content)\n",
        "      print()\n",
        "\n",
        "def extract_classification_report_and_conf_matrix(file_path):\n",
        "  with open(file_path, 'r') as file:\n",
        "    concat_lines = ''\n",
        "    for line in file:\n",
        "      if 'OUR WORDS' in line or 'LMD' in line:\n",
        "        l = line.replace('OUR WORDS', 'XLex').replace('LMD', 'LM')\n",
        "        if 'accuracy score' in l:\n",
        "          l = l.split('LM accuracy score')[0]\n",
        "          l = l +'\\n'\n",
        "\n",
        "        find_and_print_segment(concat_lines, \"array([\", '))', 'Confusion Matrix:')\n",
        "        print()\n",
        "        print()\n",
        "        print()\n",
        "        print()\n",
        "        concat_lines = ''\n",
        "\n",
        "        print('Results for: ', l)\n",
        "\n",
        "      concat_lines += line.strip()\n",
        "\n",
        "      find_and_print_segment(line, \"}, '\", \"', array\", 'Classification Report:')\n",
        "\n",
        "    find_and_print_segment(concat_lines, \"array([\", '))', 'Confusion Matrix:')\n",
        "    print()\n",
        "    print()"
      ],
      "metadata": {
        "id": "OLbX0-2K6tUP"
      },
      "execution_count": null,
      "outputs": []
    },
    {
      "cell_type": "code",
      "source": [
        "import gdown\n",
        "import os\n",
        "\n",
        "def check_input_vals_and_run_extraction(source_lexicon, normalized, eval_dataset, lexicons_folder_map):\n",
        "  if source_lexicon not in ['nasdaq', 'fpb', 'sentfin']:\n",
        "    raise ValueError('Selected lexicon name is not contained in the allowed names')\n",
        "\n",
        "  if normalized not in [True, False]:\n",
        "    raise ValueError('Normalized must be True or False')\n",
        "\n",
        "  if eval_dataset not in ['fpb_fiqa', 'dev_df', 'financial_phrase_bank', 'fiqa_labeled_df']:\n",
        "    raise ValueError('Selected eval dataset name is not contained in the allowed names')\n",
        "\n",
        "  normalized_name = 'normalized' if normalized else 'merged'\n",
        "\n",
        "  print(f'Showing classification report and confusion matrix for the lexicon: {source_lexicon}, using its {normalized_name} version, on eval dataset: {eval_dataset}')\n",
        "\n",
        "  base_path = lexicons_folder_map[source_lexicon]\n",
        "  base_path_modified = base_path if base_path[-1] == '/' else f'{base_path}/'\n",
        "\n",
        "  file_path = f'{base_path_modified}/{source_lexicon}-{normalized_name}-{eval_dataset}.txt'\n",
        "  extract_classification_report_and_conf_matrix(file_path)"
      ],
      "metadata": {
        "id": "ih6nwFwaAoaz"
      },
      "execution_count": null,
      "outputs": []
    },
    {
      "cell_type": "code",
      "source": [
        "check_input_vals_and_run_extraction(source_lexicon, normalized, eval_dataset, lexicons_folder_map)"
      ],
      "metadata": {
        "colab": {
          "base_uri": "https://localhost:8080/"
        },
        "id": "tD0Jy0YIK02t",
        "outputId": "9b499ccb-e262-4b67-c785-b15dbea3ff17"
      },
      "execution_count": null,
      "outputs": [
        {
          "output_type": "stream",
          "name": "stdout",
          "text": [
            "Showing classification report and confusion matrix for the lexicon: nasdaq, using its merged version, on eval dataset: financial_phrase_bank\n",
            "\n",
            "\n",
            "\n",
            "\n",
            "Results for:  XLex + LM\n",
            "\n",
            "Classification Report:\n",
            "              precision    recall  f1-score   support\n",
            "\n",
            "           0       0.43      0.72      0.54       111\n",
            "           1       0.96      0.86      0.91       774\n",
            "\n",
            "    accuracy                           0.84       885\n",
            "   macro avg       0.69      0.79      0.72       885\n",
            "weighted avg       0.89      0.84      0.86       885\n",
            "\n",
            "\n",
            "Confusion Matrix:\n",
            "[ 80,  31]\n",
            "[108, 666]\n",
            "\n",
            "\n",
            "\n",
            "\n",
            "\n",
            "Results for:  XLex\n",
            "\n",
            "Classification Report:\n",
            "              precision    recall  f1-score   support\n",
            "\n",
            "          -1       0.00      0.00      0.00         0\n",
            "           0       0.40      0.57      0.47       111\n",
            "           1       0.93      0.88      0.90       774\n",
            "\n",
            "    accuracy                           0.84       885\n",
            "   macro avg       0.44      0.48      0.46       885\n",
            "weighted avg       0.87      0.84      0.85       885\n",
            "\n",
            "\n",
            "Confusion Matrix:\n",
            "[  0,   0,   0]\n",
            "[  0,  63,  48]\n",
            "[  1,  95, 678]\n",
            "\n",
            "\n",
            "\n",
            "\n",
            "\n",
            "Results for:  LM\n",
            "\n",
            "Classification Report:\n",
            "              precision    recall  f1-score   support\n",
            "\n",
            "          -1       0.00      0.00      0.00         0\n",
            "           0       0.39      0.48      0.43       111\n",
            "           1       0.98      0.28      0.43       774\n",
            "\n",
            "    accuracy                           0.30       885\n",
            "   macro avg       0.46      0.25      0.29       885\n",
            "weighted avg       0.91      0.30      0.43       885\n",
            "\n",
            "\n",
            "Confusion Matrix:\n",
            "[  0,   0,   0]\n",
            "[ 54,  53,   4]\n",
            "[475,  84, 215]\n",
            "\n",
            "\n",
            "\n",
            "\n",
            "\n",
            "Results for:  LM accuracy for those that LM had answer for\n",
            "\n",
            "Classification Report:\n",
            "              precision    recall  f1-score   support\n",
            "\n",
            "           0       0.39      0.93      0.55        57\n",
            "           1       0.98      0.72      0.83       299\n",
            "\n",
            "    accuracy                           0.75       356\n",
            "   macro avg       0.68      0.82      0.69       356\n",
            "weighted avg       0.89      0.75      0.78       356\n",
            "\n",
            "\n",
            "Confusion Matrix:\n",
            "[ 53,   4]\n",
            "[ 84, 215]\n",
            "\n",
            "\n",
            "\n",
            "\n",
            "\n",
            "Results for:  XLex accuracy for those that LM had answer for\n",
            "\n",
            "Classification Report:\n",
            "              precision    recall  f1-score   support\n",
            "\n",
            "          -1       0.00      0.00      0.00         0\n",
            "           0       0.39      0.61      0.48        57\n",
            "           1       0.92      0.81      0.86       299\n",
            "\n",
            "    accuracy                           0.78       356\n",
            "   macro avg       0.44      0.48      0.45       356\n",
            "weighted avg       0.83      0.78      0.80       356\n",
            "\n",
            "\n",
            "Confusion Matrix:\n",
            "[  0,   0,   0]\n",
            "[  0,  35,  22]\n",
            "[  1,  55, 243]\n",
            "\n",
            "\n",
            "\n",
            "\n",
            "\n",
            "Results for:  XLex + LM accuracy for those that LM had answer for\n",
            "\n",
            "Classification Report:\n",
            "              precision    recall  f1-score   support\n",
            "\n",
            "           0       0.43      0.91      0.59        57\n",
            "           1       0.98      0.77      0.86       299\n",
            "\n",
            "    accuracy                           0.79       356\n",
            "   macro avg       0.71      0.84      0.73       356\n",
            "weighted avg       0.89      0.79      0.82       356\n",
            "\n",
            "\n",
            "Confusion Matrix:\n",
            "[ 52,   5]\n",
            "[ 68, 231]\n",
            "\n",
            "\n",
            "\n"
          ]
        }
      ]
    },
    {
      "cell_type": "code",
      "execution_count": null,
      "metadata": {
        "colab": {
          "base_uri": "https://localhost:8080/",
          "height": 577
        },
        "id": "JFDencDUHbIB",
        "outputId": "32046f2b-c625-4a62-ec8b-6236dd1843e6"
      },
      "outputs": [
        {
          "output_type": "display_data",
          "data": {
            "text/plain": [
              "<Figure size 800x600 with 2 Axes>"
            ],
            "image/png": "[encoded data removed]"
          },
          "metadata": {}
        }
      ],
      "source": [
        "import matplotlib.pyplot as plt\n",
        "import seaborn as sns\n",
        "\n",
        "# Define TP, TN, FP, FN for the XLex + LM combination\n",
        "TN = 80\n",
        "TP = 666\n",
        "FP = 31\n",
        "FN = 108\n",
        "\n",
        "# Set labels for the matrix\n",
        "labels = ['True Negative', 'False Positive', 'False Negative', 'True Positive']\n",
        "\n",
        "# Create a confusion matrix\n",
        "confusion_matrix = [TN, FP, FN, TP]\n",
        "confusion_matrix = [confusion_matrix[i:i + 2] for i in range(0, len(confusion_matrix), 2)]\n",
        "\n",
        "# Create a heatmap of the confusion matrix\n",
        "plt.figure(figsize=(8, 6))\n",
        "sns.heatmap(confusion_matrix, annot=True, fmt='d', cmap='Blues', xticklabels=['Predicted Negative', 'Predicted Positive'], yticklabels=['Actual Negative', 'Actual Positive'], annot_kws={\"size\": 20})\n",
        "\n",
        "plt.xticks(fontsize=14)\n",
        "plt.yticks(fontsize=14)\n",
        "plt.xlabel('Predicted', fontsize=16)\n",
        "plt.ylabel('Actual', fontsize=16)\n",
        "plt.title('Confusion Matrix', fontsize=16)\n",
        "plt.show()"
      ]
    }
  ]
}