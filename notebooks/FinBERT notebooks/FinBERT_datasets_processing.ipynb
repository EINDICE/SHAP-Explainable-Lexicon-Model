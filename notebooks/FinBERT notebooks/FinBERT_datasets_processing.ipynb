{
  "nbformat": 4,
  "nbformat_minor": 0,
  "metadata": {
    "colab": {
      "provenance": [],
      "toc_visible": true,
      "mount_file_id": "1eM3Uhl7VKdpdzXuuDUbWA5TlmRrNyvXW",
      "authorship_tag": "ABX9TyPgpbvJLLuCAa3Eo0DdDYwr"
    },
    "kernelspec": {
      "name": "python3",
      "display_name": "Python 3"
    },
    "language_info": {
      "name": "python"
    }
  },
  "cells": [
    {
      "cell_type": "markdown",
      "source": [
        "# User Input"
      ],
      "metadata": {
        "id": "OMdN9dxdB8i2"
      }
    },
    {
      "cell_type": "code",
      "source": [
        "# enter the location where datasets should be saved\n",
        "drive_loc = '/content/drive/MyDrive/datasets'\n",
        "\n",
        "\n",
        "# ----- NASDAQ -----\n",
        "\n",
        "# enter the nasdaq dataset location\n",
        "nasdaq_loc = '/content/drive/MyDrive/datasets/nasdaq.csv'\n",
        "\n",
        "\n",
        "# ----- FINANCIAL PHRASE BANK -----\n",
        "\n",
        "# enter the financial phrase bank dataset location\n",
        "financial_phrase_bank_loc = '/content/drive/MyDrive/datasets/all-data.csv'\n",
        "\n",
        "\n",
        "# ----- SENTFIN -----\n",
        "\n",
        "# enter the sentfin dataset location\n",
        "sentfin_loc = '/content/drive/MyDrive/datasets/SEntFiN-v1.1.csv'\n",
        "\n",
        "\n",
        "# ----- FINANCIAL PHRASE BANK + SEM-EVAL 2017 TASK 5 -----\n",
        "\n",
        "# enter the train dataset location\n",
        "train_df_loc = '/content/drive/MyDrive/datasets/train.tsv'\n",
        "\n",
        "# enter the dev dataset location\n",
        "dev_df_loc = '/content/drive/MyDrive/datasets/dev.tsv'\n",
        "\n",
        "\n",
        "# ----- FIQA -----\n",
        "\n",
        "# enter the Fiqa task 1 headline train dataset location\n",
        "fiqa_headline_train_loc = '/content/drive/MyDrive/datasets/task1_headline_ABSA_train.json'\n",
        "\n",
        "# enter the Fiqa task 1 post train dataset location\n",
        "fiqa_post_train_loc = '/content/drive/MyDrive/datasets/task1_post_ABSA_train.json'\n",
        "\n",
        "\n",
        "# ----- FPB - FIQA -----\n",
        "\n",
        "# enter the fpb_fiqa dataset location\n",
        "fpb_fiqa_loc = '/content/drive/MyDrive/datasets/data.csv'\n",
        "\n",
        "\n",
        "# ----- Loughran McDonald Dictionary -----\n",
        "\n",
        "# enter the lmd dataset location\n",
        "loughran_mcdonald_loc = '/content/drive/MyDrive/datasets/Loughran-McDonald_MasterDictionary_1993-2021.csv'"
      ],
      "metadata": {
        "id": "9jcnU9-o_yUU"
      },
      "execution_count": null,
      "outputs": []
    },
    {
      "cell_type": "markdown",
      "source": [
        "# Setup"
      ],
      "metadata": {
        "id": "qxe2Bd_9HfE-"
      }
    },
    {
      "cell_type": "code",
      "source": [
        "pip install tweet-preprocessor"
      ],
      "metadata": {
        "id": "w99QGHE1B_MW"
      },
      "execution_count": null,
      "outputs": []
    },
    {
      "cell_type": "code",
      "source": [
        "import os\n",
        "from os import listdir\n",
        "from os.path import isfile, join\n",
        "\n",
        "def save_dataset(dataset_name, dataset, dataset_type, location):\n",
        "  base_loc = location if location[-1] == '/' else f'{location}/'\n",
        "  base_type_loc = f'{base_loc}{dataset_type} datasets/'\n",
        "\n",
        "  if not os.path.exists(base_type_loc):\n",
        "    os.makedirs(base_type_loc)\n",
        "\n",
        "  save_loc = f'{base_type_loc}{dataset_name}'\n",
        "\n",
        "  dataset.to_csv(save_loc, index = False)"
      ],
      "metadata": {
        "id": "WhhsVAW5AAzf"
      },
      "execution_count": null,
      "outputs": []
    },
    {
      "cell_type": "code",
      "source": [
        "def check_set_duplicates(df1, df1_column, df2, df2_column):\n",
        "  return set(df1[df1_column].str.lower()).intersection(set(df2[df2_column].str.lower()))\n",
        "\n",
        "def df_no_duplicates(df, df_column, sentences):\n",
        "  return df[~df[df_column].str.lower().isin(sentences)]"
      ],
      "metadata": {
        "id": "KvH0veBgmJPq"
      },
      "execution_count": null,
      "outputs": []
    },
    {
      "cell_type": "code",
      "source": [
        "def check_if_equals(dataset_sentences, copy_dataset_sentences):\n",
        "  l = []\n",
        "  for sentence in dataset_sentences:\n",
        "    sent = str(sentence)\n",
        "    if sent not in copy_dataset_sentences:\n",
        "      l.append(sent)\n",
        "      print(f'Missing sentence: {sent}')\n",
        "\n",
        "  return l"
      ],
      "metadata": {
        "id": "yCL8XxAlzw-m"
      },
      "execution_count": null,
      "outputs": []
    },
    {
      "cell_type": "code",
      "source": [
        "def convert_to_num(data, column):\n",
        "  sentiment_map = {\n",
        "      'positive': 1,\n",
        "      'negative': 0\n",
        "  }\n",
        "  return data[column].apply(lambda s: sentiment_map[s]).values"
      ],
      "metadata": {
        "id": "aYEic5rdlbxi"
      },
      "execution_count": null,
      "outputs": []
    },
    {
      "cell_type": "code",
      "source": [
        "import pandas as pd\n",
        "\n",
        "train_df = pd.read_csv(train_df_loc, sep='\\t', names=['ind', 'sentiment', 'letter', 'text'], header=None)\n",
        "dev_df = pd.read_csv(dev_df_loc, sep='\\t', names=['ind', 'sentiment', 'letter', 'text'], header=None)"
      ],
      "metadata": {
        "id": "LvRxYNRxaPtp"
      },
      "execution_count": null,
      "outputs": []
    },
    {
      "cell_type": "markdown",
      "source": [
        "# Evaluation Datasets"
      ],
      "metadata": {
        "id": "ohTIXAVPFlqK"
      }
    },
    {
      "cell_type": "markdown",
      "source": [
        "## FPB Fiqa"
      ],
      "metadata": {
        "id": "h_KLW9riMAXG"
      }
    },
    {
      "cell_type": "code",
      "source": [
        "train_df_fpb_fiqa = [\n",
        "    \"FastJet slams EasyJet founder Stelios for going public, is 'taking legal advice' over letter about contractual ...\",\n",
        "    'FastJet slams EasyJet founder Stelios for going public, is \"taking legal advice\" over letter about contractual ...',\n",
        "\n",
        "    \"In the third quarter , net sales increased by 12 % year-on-year to EUR159 .5 m , or by 6 % at comparable currency rates growth .\",\n",
        "    \"In the third quarter , net sales increased by 12 % year-on-year to EUR 159.5 million , or by 6 % at comparable currency rates growth .\",\n",
        "\n",
        "    \"Tesco, Asda sales fall as march of the discounters continues-Kantar\",\n",
        "    \"Tesco, Asda sales fall as march of the discounters continues: Kantar\",\n",
        "\n",
        "    \"EU regulator backs approval for GSK injectable asthma drug\",\n",
        "    \"UPDATE 1-EU regulator backs approval for GSK injectable asthma drug\"\n",
        "]"
      ],
      "metadata": {
        "id": "Pg81yNh3C0yL"
      },
      "execution_count": null,
      "outputs": []
    },
    {
      "cell_type": "code",
      "source": [
        "fpb_fiqa = pd.read_csv(fpb_fiqa_loc)\n",
        "fpb_fiqa.columns = ['text', 'sentiment']\n",
        "\n",
        "mutual_sentences = check_set_duplicates(fpb_fiqa, 'text', train_df, 'text')\n",
        "len(mutual_sentences)\n",
        "\n",
        "dataset_nt = df_no_duplicates(fpb_fiqa, 'text', mutual_sentences)\n",
        "dataset_nt.drop_duplicates('text', inplace=True)\n",
        "\n",
        "dataset_nt_nn = dataset_nt[dataset_nt['sentiment'] != 'neutral']\n",
        "\n",
        "dataset_nt_nn = dataset_nt_nn.loc[~dataset_nt_nn['text'].isin(train_df_fpb_fiqa)]\n",
        "\n",
        "dataset_nt_nn['sentiment'] = convert_to_num(dataset_nt_nn, 'sentiment')\n",
        "\n",
        "save_dataset('fpb_fiqa.csv', dataset_nt_nn, 'evaluation', drive_loc)"
      ],
      "metadata": {
        "id": "LzncmdsNJWXD"
      },
      "execution_count": null,
      "outputs": []
    },
    {
      "cell_type": "markdown",
      "source": [
        "## Fiqa labeled df"
      ],
      "metadata": {
        "id": "JzAZYjCj9ZE4"
      }
    },
    {
      "cell_type": "code",
      "source": [
        "import json\n",
        "import pandas as pd\n",
        "\n",
        "\n",
        "def get_label(score):\n",
        "  return 0 if score < 0 else 1\n",
        "\n",
        "\n",
        "def extract_sentences(dataset_loc):\n",
        "  f = open(dataset_loc)\n",
        "  data = json.load(f)\n",
        "\n",
        "  labeled_sentences = []\n",
        "  multiple_labels_sentences = []\n",
        "\n",
        "  for row in data.values():\n",
        "    print(row)\n",
        "    if len(row['info']) > 1:\n",
        "      multiple_labels_sentences.append(row)\n",
        "      continue\n",
        "    sentence = row['sentence']\n",
        "    sentiment_score = float(row['info'][0]['sentiment_score'])\n",
        "    label = get_label(sentiment_score)\n",
        "    labeled_sentences.append([sentence, sentiment_score, label])\n",
        "\n",
        "  return labeled_sentences, multiple_labels_sentences\n",
        "\n",
        "def classify_multiple_label_sentences(multiple_labels_sentences):\n",
        "  labeled_sentences, neutral = [], []\n",
        "  for sentence_row in multiple_labels_sentences:\n",
        "    sentence = sentence_row['sentence']\n",
        "    segments = sentence_row['info']\n",
        "\n",
        "    labels = set()\n",
        "    sum = 0\n",
        "    for segm in segments:\n",
        "      sentiment_score = float(segm['sentiment_score'])\n",
        "      sum += sentiment_score\n",
        "      labels.add(get_label(sentiment_score))\n",
        "\n",
        "    if len(labels) > 1:\n",
        "      neutral.append(sentence_row)\n",
        "    else:\n",
        "      labeled_sentences.append([sentence, sum, list(labels)[0]])\n",
        "\n",
        "  return labeled_sentences, neutral"
      ],
      "metadata": {
        "id": "-1K9LazkOylj"
      },
      "execution_count": null,
      "outputs": []
    },
    {
      "cell_type": "code",
      "source": [
        "train_df_fiqa = [\n",
        "    'FastJet slams EasyJet founder Stelios for going public, is \"taking legal advice\" over letter about contractual ...',\n",
        "    \"FastJet slams EasyJet founder Stelios for going public, is 'taking legal advice' over letter about contractual ...\",\n",
        "\n",
        "    'Tesco, Asda sales fall as march of the discounters continues: Kantar',\n",
        "    'Tesco, Asda sales fall as march of the discounters continues-Kantar',\n",
        "\n",
        "    \"UPDATE 1-EU regulator backs approval for GSK injectable asthma drug\",\n",
        "    \"EU regulator backs approval for GSK injectable asthma drug\"\n",
        "]"
      ],
      "metadata": {
        "id": "yiNaN8XgF0ej"
      },
      "execution_count": null,
      "outputs": []
    },
    {
      "cell_type": "code",
      "source": [
        "headlines_res = extract_sentences(fiqa_headline_train_loc)\n",
        "posts_res = extract_sentences(fiqa_post_train_loc)\n",
        "\n",
        "labeled_headlines_posts = headlines_res[0] + posts_res[0]\n",
        "multiple_label_headlines_posts = headlines_res[1] + posts_res[1]\n",
        "\n",
        "print()\n",
        "print(len(labeled_headlines_posts), len(multiple_label_headlines_posts))"
      ],
      "metadata": {
        "id": "M57akugQ7XAR"
      },
      "execution_count": null,
      "outputs": []
    },
    {
      "cell_type": "code",
      "source": [
        "mls_labeled, mls_neutral = classify_multiple_label_sentences(multiple_label_headlines_posts)\n",
        "\n",
        "fiqa_labeled = labeled_headlines_posts + mls_labeled\n",
        "fiqa_labeled_df = pd.DataFrame(fiqa_labeled, columns=['sentence', 'sentiment_score', 'label'])\n",
        "\n",
        "fiqa_labeled_df.columns = ['text',\t'sentiment_score',\t'sentiment']\n",
        "\n",
        "mutual_sentences = check_set_duplicates(fiqa_labeled_df, 'text', train_df, 'text')\n",
        "print(len(mutual_sentences))\n",
        "\n",
        "fiqa_labeled_df_nt = df_no_duplicates(fiqa_labeled_df, 'text', mutual_sentences)\n",
        "\n",
        "fiqa_labeled_df_nt.drop_duplicates('text', inplace=True)\n",
        "\n",
        "fiqa_labeled_df_nt = fiqa_labeled_df_nt.loc[~fiqa_labeled_df_nt['text'].isin(train_df_fiqa)]\n",
        "\n",
        "save_dataset('fiqa_labeled_df.csv', fiqa_labeled_df_nt, 'evaluation', drive_loc)"
      ],
      "metadata": {
        "id": "OwEhLUrvLJd6"
      },
      "execution_count": null,
      "outputs": []
    },
    {
      "cell_type": "markdown",
      "source": [
        "## Financial Phrase Bank"
      ],
      "metadata": {
        "id": "zlZJgc9DxcB8"
      }
    },
    {
      "cell_type": "code",
      "execution_count": null,
      "metadata": {
        "id": "zvHi0d90ro4-"
      },
      "outputs": [],
      "source": [
        "train_df_fpb_df_duplicates = ['The original name Componenta +àm+Ñl , as a subsidiary of the Finnish Componenta Group , has been changed to +àm+Ñl Components and the company has seen a 63 % growth in Q1 2010 , in comparison to Q1 2009 .',\n",
        "'The original name Componenta +_m+_l , as a subsidiary of the Finnish Componenta Group , has been changed to +_m+_l Components and the company has seen a 63 % growth in Q1 2010 , in comparison to Q1 2009 .',\n",
        "\n",
        "'YIT Construction and the town of Riihim+ñki have signed a lease contract whereby the town will occupy the Travel Centre office facilities .',\n",
        "'YIT Construction and the town of Riihim+Æki have signed a lease contract whereby the town will occupy the Travel Centre office facilities .',\n",
        "\n",
        "'NORDIC BUSINESS REPORT-26 June 2006-Metso Corporation wins EUR50m equipment order in Australia -® 1998-2006 M2 COMMUNICATIONS LTD The Finnish engineering and technology group Metso Corporation said on Monday ( 26 June ) that it has received a EUR50m equipment order in Australia .',\n",
        "'NORDIC BUSINESS REPORT-26 June 2006-Metso Corporation wins EUR50m equipment order in Australia -_ 1998-2006 M2 COMMUNICATIONS LTD The Finnish engineering and technology group Metso Corporation said on Monday ( 26 June ) that it has received a EUR50m equipment order in Australia .',\n",
        "\n",
        "'The real estate company posted a net loss of +ó  x201a -¼ 59.3 million +ó  x201a -¼ 0.21 per share compared with a net profit of +ó  x201a -¼ 31 million +ó  x201a -¼ 0.11 per share for the corresponding quarter of 2007 .',\n",
        "'The real estate company posted a net loss of +  x201a -õ 59.3 million +  x201a -õ 0.21 per share compared with a net profit of +  x201a -õ 31 million +  x201a -õ 0.11 per share for the corresponding quarter of 2007 .',\n",
        "\n",
        "'- The Group -¦ s result before taxes was EUR -1.9 ( -3.0 ) million .',\n",
        "'- The Group - s result before taxes was EUR -1.9 ( -3.0 ) million .',\n",
        "\n",
        "'Finnish Bank of +àland reports its operating profit fell to EUR 4.9 mn in the third quarter of 2007 from EUR 5.6 mn in the third quarter of 2006 .',\n",
        "'Finnish Bank of +_land reports its operating profit fell to EUR 4.9 mn in the third quarter of 2007 from EUR 5.6 mn in the third quarter of 2006 .',\n",
        "\n",
        "\n",
        "\"Net sales of Finnish food industry company L+ñnnen Tehtaat 's continuing operations increased by 13 % in 2008 to EUR 349.1 mn from EUR 309.6 mn in 2007 .\",\n",
        "\"Net sales of Finnish food industry company L+Ænnen Tehtaat 's continuing operations increased by 13 % in 2008 to EUR 349.1 mn from EUR 309.6 mn in 2007 .\",\n",
        "\n",
        "'55 workers in +àm+Ñl will be affected by the close-down .',\n",
        "'55 workers in +_m+_l will be affected by the close-down .',\n",
        "\n",
        "\"Clothing retail chain Sepp+ñl+ñ 's sales increased by 8 % to EUR 155.2 mn , and operating profit rose to EUR 31.1 mn from EUR 17.1 mn in 2004 .\",\n",
        "\"Clothing retail chain Sepp+Æl+Æ 's sales increased by 8 % to EUR 155.2 mn , and operating profit rose to EUR 31.1 mn from EUR 17.1 mn in 2004 .\",\n",
        "\n",
        "'In addition , the production at the Varpaisj+â rvi factory will be stopped at the beginning of April 2009 .',\n",
        "'In addition , the production at the Varpaisj+_ rvi factory will be stopped at the beginning of April 2009 .',\n",
        "\n",
        "'The pulp production in Finnish Kemij+ñrvi will also be liquidated and about 1,100 employees loose their jobs .',\n",
        "'The pulp production in Finnish Kemij+Ærvi will also be liquidated and about 1,100 employees loose their jobs .',\n",
        "\n",
        "'In Finland , the Bank of +àland reports its operating profit fell to EUR 6.1 mn in the second quarter of 2008 from EUR 7.5 mn in the second quarter of 2007 .',\n",
        "'In Finland , the Bank of +_land reports its operating profit fell to EUR 6.1 mn in the second quarter of 2008 from EUR 7.5 mn in the second quarter of 2007 .',\n",
        "\"Also Lemmink+ñinen 's profit for accounting period went up to EUR 3.1 mn from EUR -24.5 mn a year ago .\",\n",
        "\"Also Lemmink+Æinen 's profit for accounting period went up to EUR 3.1 mn from EUR -24.5 mn a year ago .\",\n",
        "\n",
        "'The adapter , awarded with the `` Certified Integration for SAP -« ; NetWeaver '' endorsement , integrates Basware s invoice automation and procurement solutions with more than 200 different ERP systems .',\n",
        "'The adapter , awarded with the `` Certified Integration for SAP - ; NetWeaver '' endorsement , integrates Basware s invoice automation and procurement solutions with more than 200 different ERP systems .',\n",
        "\n",
        "'Net profit fell by almost half to +é 5.5 million from +é 9.4 million at the end of 2007 .',\n",
        "'Net profit fell by almost half to +â 5.5 million from +â 9.4 million at the end of 2007 .',\n",
        "\n",
        "'Finnish Bank of +àland reports operating profit of EUR 2.2 mn in the first quarter of 2010 , down from EUR 6.3 mn in the corresponding period in 2009 .',\n",
        "'Finnish Bank of +_land reports operating profit of EUR 2.2 mn in the first quarter of 2010 , down from EUR 6.3 mn in the corresponding period in 2009 .',\n",
        "\n",
        "'In the third quarter , net sales increased by 12 % year-on-year to EUR 159.5 million , or by 6 % at comparable currency rates growth .',\n",
        "'In the third quarter , net sales increased by 12 % year-on-year to EUR159 .5 m , or by 6 % at comparable currency rates growth .',\n",
        "\n",
        "'The acquisition of +àlandsbanken Sverige in 2009 burdened the performance with EUR 3.0 mn .',\n",
        "'The acquisition of +_landsbanken Sverige in 2009 burdened the performance with EUR 3.0 mn .',\n",
        "\n",
        "\"CEO Erkki J+ñrvinen is happy with the company 's performance in 2010 .\",\n",
        "\"CEO Erkki J+Ærvinen is happy with the company 's performance in 2010 .\",\n",
        "'Copper , lead and nickel also dropped ... HBOS ( HBOS ) plummeted 20 % to 70.3 pence after saying this year+ó ??',\n",
        "'Copper , lead and nickel also dropped ... HBOS ( HBOS ) plummeted 20 % to 70.3 pence after saying this year+ ??',\n",
        "\n",
        "\"In Q1 of 2009 , Bank of +àland 's net interest income weakened by 10 % to EUR 9.1 mn .\",\n",
        "\"In Q1 of 2009 , Bank of +_land 's net interest income weakened by 10 % to EUR 9.1 mn .\",\n",
        "\n",
        "\"W+ñrtsil+ñ 's solution has been selected for its low fuel consumption , environmentally sound technology , and global service support .\",\n",
        "\"W+Ærtsil+Æ 's solution has been selected for its low fuel consumption , environmentally sound technology , and global service support .\",\n",
        "\n",
        "\"The Brazilian unit of Finnish security solutions provider F-Secure signed up 1,500 new clients last year , online news source Reseller Web quoted the division 's commercial director , Vladimir Brand+úo , as saying .\",\n",
        "\"The Brazilian unit of Finnish security solutions provider F-Secure signed up 1,500 new clients last year , online news source Reseller Web quoted the division 's commercial director , Vladimir Brand+_o , as saying .\"]"
      ]
    },
    {
      "cell_type": "code",
      "source": [
        "fpb_df_train_df_duplicates = [\n",
        "    \"Clothing retail chain Sepp+Æl+Æ 's sales increased by 8 % to EUR 155.2 mn , and operating profit rose to EUR 31.1 mn from EUR 17.1 mn in 2004 .\",\n",
        "\"Clothing retail chain Sepp+ñl+ñ 's sales increased by 8 % to EUR 155.2 mn , and operating profit rose to EUR 31.1 mn from EUR 17.1 mn in 2004 .\",\n",
        "\n",
        "\n",
        "\"The Brazilian unit of Finnish security solutions provider F-Secure signed up 1,500 new clients last year , online news source Reseller Web quoted the division 's commercial director , Vladimir Brand+_o , as saying .\",\n",
        "\"The Brazilian unit of Finnish security solutions provider F-Secure signed up 1,500 new clients last year , online news source Reseller Web quoted the division 's commercial director , Vladimir Brand+úo , as saying .\",\n",
        "\n",
        "\n",
        "\"Net sales of Finnish food industry company L+Ænnen Tehtaat 's continuing operations increased by 13 % in 2008 to EUR 349.1 mn from EUR 309.6 mn in 2007 .\",\n",
        "\"Net sales of Finnish food industry company L+ñnnen Tehtaat 's continuing operations increased by 13 % in 2008 to EUR 349.1 mn from EUR 309.6 mn in 2007 .\",\n",
        "\n",
        "\n",
        "\"Also Lemmink+Æinen 's profit for accounting period went up to EUR 3.1 mn from EUR -24.5 mn a year ago .\",\n",
        "\"Also Lemmink+ñinen 's profit for accounting period went up to EUR 3.1 mn from EUR -24.5 mn a year ago .\",\n",
        "\n",
        "\n",
        "'In the third quarter , net sales increased by 12 % year-on-year to EUR159 .5 m , or by 6 % at comparable currency rates growth .',\n",
        "\"In the third quarter , net sales increased by 12 % year-on-year to EUR 159.5 million , or by 6 % at comparable currency rates growth .\",\n",
        "\n",
        "'YIT Construction and the town of Riihim+Æki have signed a lease contract whereby the town will occupy the Travel Centre office facilities .',\n",
        "'YIT Construction and the town of Riihim+ñki have signed a lease contract whereby the town will occupy the Travel Centre office facilities .',\n",
        "\n",
        "\n",
        "'NORDIC BUSINESS REPORT-26 June 2006-Metso Corporation wins EUR50m equipment order in Australia -_ 1998-2006 M2 COMMUNICATIONS LTD The Finnish engineering and technology group Metso Corporation said on Monday ( 26 June ) that it has received a EUR50m equipment order in Australia .',\n",
        "'NORDIC BUSINESS REPORT-26 June 2006-Metso Corporation wins EUR50m equipment order in Australia -® 1998-2006 M2 COMMUNICATIONS LTD The Finnish engineering and technology group Metso Corporation said on Monday ( 26 June ) that it has received a EUR50m equipment order in Australia .',\n",
        "\n",
        "\n",
        "'The original name Componenta +_m+_l , as a subsidiary of the Finnish Componenta Group , has been changed to +_m+_l Components and the company has seen a 63 % growth in Q1 2010 , in comparison to Q1 2009 .',\n",
        "'The original name Componenta +àm+Ñl , as a subsidiary of the Finnish Componenta Group , has been changed to +àm+Ñl Components and the company has seen a 63 % growth in Q1 2010 , in comparison to Q1 2009 .',\n",
        "\n",
        "\n",
        "\n",
        "\n",
        "\"CEO Erkki J+ñrvinen is happy with the company 's performance in 2010 .\",\n",
        "\"CEO Erkki J+Ærvinen is happy with the company 's performance in 2010 .\",\n",
        "\n",
        "\n",
        "\n",
        "'The adapter , awarded with the `` Certified Integration for SAP -« ; NetWeaver '' endorsement , integrates Basware s invoice automation and procurement solutions with more than 200 different ERP systems .',\n",
        "'The adapter , awarded with the `` Certified Integration for SAP -‹ ; NetWeaver '' endorsement , integrates Basware s invoice automation and procurement solutions with more than 200 different ERP systems .',\n",
        "'55 workers in +_m+_l will be affected by the close-down .',\n",
        "'55 workers in +àm+Ñl will be affected by the close-down .',\n",
        "\n",
        "\n",
        "'- The Group -¦ s result before taxes was EUR -1.9 ( -3.0 ) million .',\n",
        "'- The Group -“ s result before taxes was EUR -1.9 ( -3.0 ) million .',\n",
        "\n",
        "\n",
        "'The real estate company posted a net loss of +ˆ  x201a -õ 59.3 million +ˆ  x201a -õ 0.21 per share compared with a net profit of +ˆ  x201a -õ 31 million +ˆ  x201a -õ 0.11 per share for the corresponding quarter of 2007 .',\n",
        "'The real estate company posted a net loss of +ó  x201a -¼ 59.3 million +ó  x201a -¼ 0.21 per share compared with a net profit of +ó  x201a -¼ 31 million +ó  x201a -¼ 0.11 per share for the corresponding quarter of 2007 .',\n",
        "\n",
        "\n",
        "'In addition , the production at the Varpaisj+_ rvi factory will be stopped at the beginning of April 2009 .',\n",
        "'In addition , the production at the Varpaisj+â rvi factory will be stopped at the beginning of April 2009 .',\n",
        "\n",
        "'The pulp production in Finnish Kemij+Ærvi will also be liquidated and about 1,100 employees loose their jobs .',\n",
        "'The pulp production in Finnish Kemij+ñrvi will also be liquidated and about 1,100 employees loose their jobs .',\n",
        "\n",
        "\n",
        "'Copper , lead and nickel also dropped ... HBOS ( HBOS ) plummeted 20 % to 70.3 pence after saying this year+ˆ ??',\n",
        "'Copper , lead and nickel also dropped ... HBOS ( HBOS ) plummeted 20 % to 70.3 pence after saying this year+ó ??',\n",
        "\n",
        "\n",
        "'The acquisition of +_landsbanken Sverige in 2009 burdened the performance with EUR 3.0 mn .',\n",
        "'The acquisition of +àlandsbanken Sverige in 2009 burdened the performance with EUR 3.0 mn .',\n",
        "\n",
        "\"W+Ærtsil+Æ 's solution has been selected for its low fuel consumption , environmentally sound technology , and global service support .\",\n",
        "\"W+ñrtsil+ñ 's solution has been selected for its low fuel consumption , environmentally sound technology , and global service support .\",\n",
        "\n",
        "\n",
        "'In Finland , the Bank of +_land reports its operating profit fell to EUR 6.1 mn in the second quarter of 2008 from EUR 7.5 mn in the second quarter of 2007 .',\n",
        "'In Finland , the Bank of +àland reports its operating profit fell to EUR 6.1 mn in the second quarter of 2008 from EUR 7.5 mn in the second quarter of 2007 .',\n",
        "\n",
        "\n",
        "\n",
        "\"In Q1 of 2009 , Bank of +_land 's net interest income weakened by 10 % to EUR 9.1 mn .\",\n",
        "\"In Q1 of 2009 , Bank of +àland 's net interest income weakened by 10 % to EUR 9.1 mn .\",\n",
        "\n",
        "'Finnish Bank of +_land reports its operating profit fell to EUR 4.9 mn in the third quarter of 2007 from EUR 5.6 mn in the third quarter of 2006 .',\n",
        "'Finnish Bank of +àland reports its operating profit fell to EUR 4.9 mn in the third quarter of 2007 from EUR 5.6 mn in the third quarter of 2006 .',\n",
        "\n",
        "\n",
        "'Finnish Bank of +_land reports operating profit of EUR 2.2 mn in the first quarter of 2010 , down from EUR 6.3 mn in the corresponding period in 2009 .',\n",
        "'Finnish Bank of +àland reports operating profit of EUR 2.2 mn in the first quarter of 2010 , down from EUR 6.3 mn in the corresponding period in 2009 .',\n",
        "\n",
        "\n",
        "'Net profit fell by almost half to +â 5.5 million from +â 9.4 million at the end of 2007 .',\n",
        "'Net profit fell by almost half to +é 5.5 million from +é 9.4 million at the end of 2007 .'\n",
        "\n",
        "]"
      ],
      "metadata": {
        "id": "tR-taqQVro4_"
      },
      "execution_count": null,
      "outputs": []
    },
    {
      "cell_type": "code",
      "source": [
        "import pandas as pd\n",
        "df = pd.read_csv(financial_phrase_bank_loc, encoding='latin-1', names=['sentiment', 'text'], header=None)\n",
        "df.drop_duplicates(subset = 'text', inplace = True)\n",
        "\n",
        "print(len(df) - len(set(train_df['text'].values).intersection(set(df.text.values))))\n",
        "intersection = check_set_duplicates(df, 'text', train_df, 'text')\n",
        "df = df_no_duplicates(df, 'text', intersection)\n",
        "\n",
        "fpb = df[df['sentiment'] != 'neutral']\n",
        "\n",
        "fpb = fpb.loc[~fpb['text'].isin(train_df_fpb_df_duplicates + fpb_df_train_df_duplicates)]\n",
        "\n",
        "fpb['sentiment'] = convert_to_num(fpb, 'sentiment')\n",
        "\n",
        "save_dataset('financial_phrase_bank.csv', fpb, 'evaluation', drive_loc)"
      ],
      "metadata": {
        "id": "Y5fQWBVIz4dU"
      },
      "execution_count": null,
      "outputs": []
    },
    {
      "cell_type": "markdown",
      "source": [
        "## dev_df"
      ],
      "metadata": {
        "id": "biMmfjYL1Joo"
      }
    },
    {
      "cell_type": "code",
      "source": [
        "dev_df = pd.read_csv(dev_df_loc, sep='\\t', names=['ind', 'sentiment', 'letter', 'text'], header=None)\n",
        "dev_df.drop_duplicates(subset = 'text', inplace = True)\n",
        "\n",
        "print(len(dev_df) - len(set(train_df['text'].values).intersection(set(dev_df.text.values))))\n",
        "intersection = check_set_duplicates(dev_df, 'text', train_df, 'text')\n",
        "dev_df = df_no_duplicates(dev_df, 'text', intersection)\n",
        "\n",
        "save_dataset('dev_df.csv', dev_df, 'evaluation', drive_loc)"
      ],
      "metadata": {
        "id": "vRKjT4Lv1LiZ"
      },
      "execution_count": null,
      "outputs": []
    },
    {
      "cell_type": "markdown",
      "source": [
        "# Source datasets"
      ],
      "metadata": {
        "id": "X_I4JOnI_OFm"
      }
    },
    {
      "cell_type": "code",
      "source": [
        "eval_loc_base = drive_loc if drive_loc[-1] == '/' else f'{drive_loc}/'\n",
        "eval_loc = f'{eval_loc_base}evaluation datasets/'\n",
        "\n",
        "eval_files_locations = [join(eval_loc, f) for f in listdir(eval_loc) if isfile(join(eval_loc, f))]\n",
        "\n",
        "eval_datasets = {}\n",
        "\n",
        "for ev in eval_files_locations:\n",
        "  ev_name = ev.split('/')[-1].split('.')[0]\n",
        "  ev_df = pd.read_csv(ev)\n",
        "  eval_datasets[ev_name] = ev_df"
      ],
      "metadata": {
        "id": "ASuNrF0RvRr5"
      },
      "execution_count": null,
      "outputs": []
    },
    {
      "cell_type": "markdown",
      "source": [
        "## Nasdaq"
      ],
      "metadata": {
        "id": "O1jGvV0m_QSm"
      }
    },
    {
      "cell_type": "code",
      "execution_count": null,
      "metadata": {
        "id": "Z4UvOLPQjJ_p"
      },
      "outputs": [],
      "source": [
        "import pandas as pd\n",
        "import preprocessor as p\n",
        "\n",
        "# enter the location of nasdaq dataset\n",
        "df = pd.read_csv(nasdaq_loc)\n",
        "\n",
        "# duplicate headlines\n",
        "df[df.duplicated('Headline') == True]\n",
        "# dropping duplicates\n",
        "df.drop_duplicates(subset='Headline', inplace=True)\n",
        "\n",
        "# configuring tweet processor to remove the following objects\n",
        "p.set_options(p.OPT.URL, p.OPT.EMOJI, p.OPT.MENTION, p.OPT.RESERVED, p.OPT.SMILEY)\n",
        "# removing the objects\n",
        "df['Headline'] = df['Headline'].apply(lambda x: p.clean(x))\n",
        "\n",
        "df.columns = ['sentiment', 'ticker', 'text']\n",
        "\n",
        "save_dataset('nasdaq.csv', df, 'source', drive_loc)"
      ]
    },
    {
      "cell_type": "markdown",
      "source": [
        "## Financial Phrase Bank"
      ],
      "metadata": {
        "id": "r4oU4M7oDJbg"
      }
    },
    {
      "cell_type": "code",
      "source": [
        "# following are sentences that were found in financial phrase bank as well as in some of the evaluation datasets\n",
        "# removing them from Financial Phrase Bank source dataset"
      ],
      "metadata": {
        "id": "2VrW4P6t2kgP"
      },
      "execution_count": null,
      "outputs": []
    },
    {
      "cell_type": "code",
      "execution_count": null,
      "metadata": {
        "id": "JyZSPIlJ4NU2"
      },
      "outputs": [],
      "source": [
        "train_df_fpb_df_duplicates = ['The original name Componenta +àm+Ñl , as a subsidiary of the Finnish Componenta Group , has been changed to +àm+Ñl Components and the company has seen a 63 % growth in Q1 2010 , in comparison to Q1 2009 .',\n",
        "'The original name Componenta +_m+_l , as a subsidiary of the Finnish Componenta Group , has been changed to +_m+_l Components and the company has seen a 63 % growth in Q1 2010 , in comparison to Q1 2009 .',\n",
        "\n",
        "'YIT Construction and the town of Riihim+ñki have signed a lease contract whereby the town will occupy the Travel Centre office facilities .',\n",
        "'YIT Construction and the town of Riihim+Æki have signed a lease contract whereby the town will occupy the Travel Centre office facilities .',\n",
        "\n",
        "'NORDIC BUSINESS REPORT-26 June 2006-Metso Corporation wins EUR50m equipment order in Australia -® 1998-2006 M2 COMMUNICATIONS LTD The Finnish engineering and technology group Metso Corporation said on Monday ( 26 June ) that it has received a EUR50m equipment order in Australia .',\n",
        "'NORDIC BUSINESS REPORT-26 June 2006-Metso Corporation wins EUR50m equipment order in Australia -_ 1998-2006 M2 COMMUNICATIONS LTD The Finnish engineering and technology group Metso Corporation said on Monday ( 26 June ) that it has received a EUR50m equipment order in Australia .',\n",
        "\n",
        "'The real estate company posted a net loss of +ó  x201a -¼ 59.3 million +ó  x201a -¼ 0.21 per share compared with a net profit of +ó  x201a -¼ 31 million +ó  x201a -¼ 0.11 per share for the corresponding quarter of 2007 .',\n",
        "'The real estate company posted a net loss of +  x201a -õ 59.3 million +  x201a -õ 0.21 per share compared with a net profit of +  x201a -õ 31 million +  x201a -õ 0.11 per share for the corresponding quarter of 2007 .',\n",
        "\n",
        "'- The Group -¦ s result before taxes was EUR -1.9 ( -3.0 ) million .',\n",
        "'- The Group - s result before taxes was EUR -1.9 ( -3.0 ) million .',\n",
        "\n",
        "'Finnish Bank of +àland reports its operating profit fell to EUR 4.9 mn in the third quarter of 2007 from EUR 5.6 mn in the third quarter of 2006 .',\n",
        "'Finnish Bank of +_land reports its operating profit fell to EUR 4.9 mn in the third quarter of 2007 from EUR 5.6 mn in the third quarter of 2006 .',\n",
        "\n",
        "\n",
        "\"Net sales of Finnish food industry company L+ñnnen Tehtaat 's continuing operations increased by 13 % in 2008 to EUR 349.1 mn from EUR 309.6 mn in 2007 .\",\n",
        "\"Net sales of Finnish food industry company L+Ænnen Tehtaat 's continuing operations increased by 13 % in 2008 to EUR 349.1 mn from EUR 309.6 mn in 2007 .\",\n",
        "\n",
        "'55 workers in +àm+Ñl will be affected by the close-down .',\n",
        "'55 workers in +_m+_l will be affected by the close-down .',\n",
        "\n",
        "\"Clothing retail chain Sepp+ñl+ñ 's sales increased by 8 % to EUR 155.2 mn , and operating profit rose to EUR 31.1 mn from EUR 17.1 mn in 2004 .\",\n",
        "\"Clothing retail chain Sepp+Æl+Æ 's sales increased by 8 % to EUR 155.2 mn , and operating profit rose to EUR 31.1 mn from EUR 17.1 mn in 2004 .\",\n",
        "\n",
        "'In addition , the production at the Varpaisj+â rvi factory will be stopped at the beginning of April 2009 .',\n",
        "'In addition , the production at the Varpaisj+_ rvi factory will be stopped at the beginning of April 2009 .',\n",
        "\n",
        "'The pulp production in Finnish Kemij+ñrvi will also be liquidated and about 1,100 employees loose their jobs .',\n",
        "'The pulp production in Finnish Kemij+Ærvi will also be liquidated and about 1,100 employees loose their jobs .',\n",
        "\n",
        "'In Finland , the Bank of +àland reports its operating profit fell to EUR 6.1 mn in the second quarter of 2008 from EUR 7.5 mn in the second quarter of 2007 .',\n",
        "'In Finland , the Bank of +_land reports its operating profit fell to EUR 6.1 mn in the second quarter of 2008 from EUR 7.5 mn in the second quarter of 2007 .',\n",
        "\"Also Lemmink+ñinen 's profit for accounting period went up to EUR 3.1 mn from EUR -24.5 mn a year ago .\",\n",
        "\"Also Lemmink+Æinen 's profit for accounting period went up to EUR 3.1 mn from EUR -24.5 mn a year ago .\",\n",
        "\n",
        "'The adapter , awarded with the `` Certified Integration for SAP -« ; NetWeaver '' endorsement , integrates Basware s invoice automation and procurement solutions with more than 200 different ERP systems .',\n",
        "'The adapter , awarded with the `` Certified Integration for SAP - ; NetWeaver '' endorsement , integrates Basware s invoice automation and procurement solutions with more than 200 different ERP systems .',\n",
        "\n",
        "'Net profit fell by almost half to +é 5.5 million from +é 9.4 million at the end of 2007 .',\n",
        "'Net profit fell by almost half to +â 5.5 million from +â 9.4 million at the end of 2007 .',\n",
        "\n",
        "'Finnish Bank of +àland reports operating profit of EUR 2.2 mn in the first quarter of 2010 , down from EUR 6.3 mn in the corresponding period in 2009 .',\n",
        "'Finnish Bank of +_land reports operating profit of EUR 2.2 mn in the first quarter of 2010 , down from EUR 6.3 mn in the corresponding period in 2009 .',\n",
        "\n",
        "'In the third quarter , net sales increased by 12 % year-on-year to EUR 159.5 million , or by 6 % at comparable currency rates growth .',\n",
        "'In the third quarter , net sales increased by 12 % year-on-year to EUR159 .5 m , or by 6 % at comparable currency rates growth .',\n",
        "\n",
        "'The acquisition of +àlandsbanken Sverige in 2009 burdened the performance with EUR 3.0 mn .',\n",
        "'The acquisition of +_landsbanken Sverige in 2009 burdened the performance with EUR 3.0 mn .',\n",
        "\n",
        "\"CEO Erkki J+ñrvinen is happy with the company 's performance in 2010 .\",\n",
        "\"CEO Erkki J+Ærvinen is happy with the company 's performance in 2010 .\",\n",
        "'Copper , lead and nickel also dropped ... HBOS ( HBOS ) plummeted 20 % to 70.3 pence after saying this year+ó ??',\n",
        "'Copper , lead and nickel also dropped ... HBOS ( HBOS ) plummeted 20 % to 70.3 pence after saying this year+ ??',\n",
        "\n",
        "\"In Q1 of 2009 , Bank of +àland 's net interest income weakened by 10 % to EUR 9.1 mn .\",\n",
        "\"In Q1 of 2009 , Bank of +_land 's net interest income weakened by 10 % to EUR 9.1 mn .\",\n",
        "\n",
        "\"W+ñrtsil+ñ 's solution has been selected for its low fuel consumption , environmentally sound technology , and global service support .\",\n",
        "\"W+Ærtsil+Æ 's solution has been selected for its low fuel consumption , environmentally sound technology , and global service support .\",\n",
        "\n",
        "\"The Brazilian unit of Finnish security solutions provider F-Secure signed up 1,500 new clients last year , online news source Reseller Web quoted the division 's commercial director , Vladimir Brand+úo , as saying .\",\n",
        "\"The Brazilian unit of Finnish security solutions provider F-Secure signed up 1,500 new clients last year , online news source Reseller Web quoted the division 's commercial director , Vladimir Brand+_o , as saying .\"]"
      ]
    },
    {
      "cell_type": "code",
      "source": [
        "fpb_df_train_df_duplicates = [\n",
        "    \"Clothing retail chain Sepp+Æl+Æ 's sales increased by 8 % to EUR 155.2 mn , and operating profit rose to EUR 31.1 mn from EUR 17.1 mn in 2004 .\",\n",
        "\"Clothing retail chain Sepp+ñl+ñ 's sales increased by 8 % to EUR 155.2 mn , and operating profit rose to EUR 31.1 mn from EUR 17.1 mn in 2004 .\",\n",
        "\n",
        "\n",
        "\"The Brazilian unit of Finnish security solutions provider F-Secure signed up 1,500 new clients last year , online news source Reseller Web quoted the division 's commercial director , Vladimir Brand+_o , as saying .\",\n",
        "\"The Brazilian unit of Finnish security solutions provider F-Secure signed up 1,500 new clients last year , online news source Reseller Web quoted the division 's commercial director , Vladimir Brand+úo , as saying .\",\n",
        "\n",
        "\n",
        "\"Net sales of Finnish food industry company L+Ænnen Tehtaat 's continuing operations increased by 13 % in 2008 to EUR 349.1 mn from EUR 309.6 mn in 2007 .\",\n",
        "\"Net sales of Finnish food industry company L+ñnnen Tehtaat 's continuing operations increased by 13 % in 2008 to EUR 349.1 mn from EUR 309.6 mn in 2007 .\",\n",
        "\n",
        "\n",
        "\"Also Lemmink+Æinen 's profit for accounting period went up to EUR 3.1 mn from EUR -24.5 mn a year ago .\",\n",
        "\"Also Lemmink+ñinen 's profit for accounting period went up to EUR 3.1 mn from EUR -24.5 mn a year ago .\",\n",
        "\n",
        "\n",
        "'In the third quarter , net sales increased by 12 % year-on-year to EUR159 .5 m , or by 6 % at comparable currency rates growth .',\n",
        "\"In the third quarter , net sales increased by 12 % year-on-year to EUR 159.5 million , or by 6 % at comparable currency rates growth .\",\n",
        "\n",
        "'YIT Construction and the town of Riihim+Æki have signed a lease contract whereby the town will occupy the Travel Centre office facilities .',\n",
        "'YIT Construction and the town of Riihim+ñki have signed a lease contract whereby the town will occupy the Travel Centre office facilities .',\n",
        "\n",
        "\n",
        "'NORDIC BUSINESS REPORT-26 June 2006-Metso Corporation wins EUR50m equipment order in Australia -_ 1998-2006 M2 COMMUNICATIONS LTD The Finnish engineering and technology group Metso Corporation said on Monday ( 26 June ) that it has received a EUR50m equipment order in Australia .',\n",
        "'NORDIC BUSINESS REPORT-26 June 2006-Metso Corporation wins EUR50m equipment order in Australia -® 1998-2006 M2 COMMUNICATIONS LTD The Finnish engineering and technology group Metso Corporation said on Monday ( 26 June ) that it has received a EUR50m equipment order in Australia .',\n",
        "\n",
        "\n",
        "'The original name Componenta +_m+_l , as a subsidiary of the Finnish Componenta Group , has been changed to +_m+_l Components and the company has seen a 63 % growth in Q1 2010 , in comparison to Q1 2009 .',\n",
        "'The original name Componenta +àm+Ñl , as a subsidiary of the Finnish Componenta Group , has been changed to +àm+Ñl Components and the company has seen a 63 % growth in Q1 2010 , in comparison to Q1 2009 .',\n",
        "\n",
        "\n",
        "\n",
        "\n",
        "\"CEO Erkki J+ñrvinen is happy with the company 's performance in 2010 .\",\n",
        "\"CEO Erkki J+Ærvinen is happy with the company 's performance in 2010 .\",\n",
        "\n",
        "\n",
        "\n",
        "'The adapter , awarded with the `` Certified Integration for SAP -« ; NetWeaver '' endorsement , integrates Basware s invoice automation and procurement solutions with more than 200 different ERP systems .',\n",
        "'The adapter , awarded with the `` Certified Integration for SAP -‹ ; NetWeaver '' endorsement , integrates Basware s invoice automation and procurement solutions with more than 200 different ERP systems .',\n",
        "'55 workers in +_m+_l will be affected by the close-down .',\n",
        "'55 workers in +àm+Ñl will be affected by the close-down .',\n",
        "\n",
        "\n",
        "'- The Group -¦ s result before taxes was EUR -1.9 ( -3.0 ) million .',\n",
        "'- The Group -“ s result before taxes was EUR -1.9 ( -3.0 ) million .',\n",
        "\n",
        "\n",
        "'The real estate company posted a net loss of +ˆ  x201a -õ 59.3 million +ˆ  x201a -õ 0.21 per share compared with a net profit of +ˆ  x201a -õ 31 million +ˆ  x201a -õ 0.11 per share for the corresponding quarter of 2007 .',\n",
        "'The real estate company posted a net loss of +ó  x201a -¼ 59.3 million +ó  x201a -¼ 0.21 per share compared with a net profit of +ó  x201a -¼ 31 million +ó  x201a -¼ 0.11 per share for the corresponding quarter of 2007 .',\n",
        "\n",
        "\n",
        "'In addition , the production at the Varpaisj+_ rvi factory will be stopped at the beginning of April 2009 .',\n",
        "'In addition , the production at the Varpaisj+â rvi factory will be stopped at the beginning of April 2009 .',\n",
        "\n",
        "'The pulp production in Finnish Kemij+Ærvi will also be liquidated and about 1,100 employees loose their jobs .',\n",
        "'The pulp production in Finnish Kemij+ñrvi will also be liquidated and about 1,100 employees loose their jobs .',\n",
        "\n",
        "\n",
        "'Copper , lead and nickel also dropped ... HBOS ( HBOS ) plummeted 20 % to 70.3 pence after saying this year+ˆ ??',\n",
        "'Copper , lead and nickel also dropped ... HBOS ( HBOS ) plummeted 20 % to 70.3 pence after saying this year+ó ??',\n",
        "\n",
        "\n",
        "'The acquisition of +_landsbanken Sverige in 2009 burdened the performance with EUR 3.0 mn .',\n",
        "'The acquisition of +àlandsbanken Sverige in 2009 burdened the performance with EUR 3.0 mn .',\n",
        "\n",
        "\"W+Ærtsil+Æ 's solution has been selected for its low fuel consumption , environmentally sound technology , and global service support .\",\n",
        "\"W+ñrtsil+ñ 's solution has been selected for its low fuel consumption , environmentally sound technology , and global service support .\",\n",
        "\n",
        "\n",
        "'In Finland , the Bank of +_land reports its operating profit fell to EUR 6.1 mn in the second quarter of 2008 from EUR 7.5 mn in the second quarter of 2007 .',\n",
        "'In Finland , the Bank of +àland reports its operating profit fell to EUR 6.1 mn in the second quarter of 2008 from EUR 7.5 mn in the second quarter of 2007 .',\n",
        "\n",
        "\n",
        "\n",
        "\"In Q1 of 2009 , Bank of +_land 's net interest income weakened by 10 % to EUR 9.1 mn .\",\n",
        "\"In Q1 of 2009 , Bank of +àland 's net interest income weakened by 10 % to EUR 9.1 mn .\",\n",
        "\n",
        "'Finnish Bank of +_land reports its operating profit fell to EUR 4.9 mn in the third quarter of 2007 from EUR 5.6 mn in the third quarter of 2006 .',\n",
        "'Finnish Bank of +àland reports its operating profit fell to EUR 4.9 mn in the third quarter of 2007 from EUR 5.6 mn in the third quarter of 2006 .',\n",
        "\n",
        "\n",
        "'Finnish Bank of +_land reports operating profit of EUR 2.2 mn in the first quarter of 2010 , down from EUR 6.3 mn in the corresponding period in 2009 .',\n",
        "'Finnish Bank of +àland reports operating profit of EUR 2.2 mn in the first quarter of 2010 , down from EUR 6.3 mn in the corresponding period in 2009 .',\n",
        "\n",
        "\n",
        "'Net profit fell by almost half to +â 5.5 million from +â 9.4 million at the end of 2007 .',\n",
        "'Net profit fell by almost half to +é 5.5 million from +é 9.4 million at the end of 2007 .'\n",
        "\n",
        "]"
      ],
      "metadata": {
        "id": "AvIQH-0A7hJ7"
      },
      "execution_count": null,
      "outputs": []
    },
    {
      "cell_type": "code",
      "source": [
        "fbp_df_dev_df = [\n",
        "    'DMASIA-16 August 2006-Benefon extends manufacturing capability with ASMobile -_ 2006 Digitalmediaasia.com & DMA Ltd. .',\n",
        "'DMASIA-16 August 2006-Benefon extends manufacturing capability with ASMobile -® 2006 Digitalmediaasia.com & DMA Ltd. .',\n",
        "\n",
        "\n",
        "'Finnish P+¦yry has been awarded an engineering contract by CFR , the national railway company of Romania .',\n",
        "'Finnish P+ yry has been awarded an engineering contract by CFR , the national railway company of Romania .',\n",
        "\n",
        "\n",
        "'Finnish Bank of +_land +_landsbanken has issued a profit warning .',\n",
        "'Finnish Bank of +àland +àlandsbanken has issued a profit warning .',\n",
        "\n",
        "'According to Swedish authorities , traces of the very toxic osmium tetroxide have been found on the coast of Per+Æmeri , the Northernmost part of the Gulf of Bothnia .',\n",
        "'According to Swedish authorities , traces of the very toxic osmium tetroxide have been found on the coast of Per+ñmeri , the Northernmost part of the Gulf of Bothnia .'\n",
        "\n",
        "]"
      ],
      "metadata": {
        "id": "IGcJOFS1-ZrX"
      },
      "execution_count": null,
      "outputs": []
    },
    {
      "cell_type": "code",
      "source": [
        "fpb_df_fbp_fiqa_df = [\n",
        "    \"Finnish Bank of +_land 's consolidated net operating profit increased from EUR 4.8 mn in the first quarter of 2005 to EUR 6.4 mn in the first quarter of 2006 .\",\n",
        "\"Finnish Bank of +àland 's consolidated net operating profit increased from EUR 4.8 mn in the first quarter of 2005 to EUR 6.4 mn in the first quarter of 2006 .\",\n",
        "\n",
        "\n",
        "\"Clothing chain Sepp+Æl+Æ 's net sales increased by 7.0 % to EUR 30.8 mn .\",\n",
        "\"Clothing chain Sepp+ñl+ñ 's net sales increased by 7.0 % to EUR 30.8 mn .\",\n",
        "\n",
        "'Finnish Bank of +_land reports its operating profit rose to EUR 21.3 mn in the second quarter of 2009 from EUR 6.1 mn in the corresponding period in 2008 .',\n",
        "'Finnish Bank of +àland reports its operating profit rose to EUR 21.3 mn in the second quarter of 2009 from EUR 6.1 mn in the corresponding period in 2008 .',\n",
        "\n",
        "\n",
        "\"According to HKScan Finland , the plan is to increase J+Ærvi-Suomen Portti 's net sales to EUR 80mn to EUR 100mn .\",\n",
        "\"According to HKScan Finland , the plan is to increase J+ñrvi-Suomen Portti 's net sales to EUR 80mn to EUR 100mn .\",\n",
        "\n",
        "\n",
        "\"In Q1 of 2010 , Bank of +_land 's net interest income increased from EUR 9.1 mn to EUR 9.7 mn .\",\n",
        "\"In Q1 of 2010 , Bank of +àland 's net interest income increased from EUR 9.1 mn to EUR 9.7 mn .\",\n",
        "\n",
        "'According to Sepp+Ænen , the new technology UMTS900 solution network building costs are by one-third lower than that of the building of 3.5 G networks , operating at 2,100 MHz frequency .',\n",
        "'According to Sepp+ñnen , the new technology UMTS900 solution network building costs are by one-third lower than that of the building of 3.5 G networks , operating at 2,100 MHz frequency .',\n",
        "\n",
        "'Finnish construction group Lemmink+Æinen has been awarded two road building contracts by the Lithuanian transport administration .',\n",
        "'Finnish construction group Lemmink+ñinen has been awarded two road building contracts by the Lithuanian transport administration .',\n",
        "\n",
        "\n",
        "\n",
        "'Finnish Rautaruukki has been awarded a contract to supply and install steel superstructures for the Partihallsf+¦rbindelsen bridge in Gothenburg in Sweden .',\n",
        "'Finnish Rautaruukki has been awarded a contract to supply and install steel superstructures for the Partihallsf+ rbindelsen bridge in Gothenburg in Sweden .',\n",
        "\n",
        "\n",
        "\"Lule+_ municipality has awarded YIT a 2-year contract , for property management of about one third of the municipality 's properties , with a total area of 140,000 sq. metres .\",\n",
        "\"Lule+Ñ municipality has awarded YIT a 2-year contract , for property management of about one third of the municipality 's properties , with a total area of 140,000 sq. metres .\",\n",
        "\n",
        "\n",
        "\n",
        "'DMASIA-16 August 2006-Benefon extends manufacturing capability with ASMobile -_ 2006 Digitalmediaasia.com & DMA Ltd. .',\n",
        "'DMASIA-16 August 2006-Benefon extends manufacturing capability with ASMobile -® 2006 Digitalmediaasia.com & DMA Ltd. .',\n",
        "\n",
        "\n",
        "\n",
        "'Finnish P+¦yry has been awarded an engineering contract by CFR , the national railway company of Romania .',\n",
        "'Finnish P+ yry has been awarded an engineering contract by CFR , the national railway company of Romania .',\n",
        "\n",
        "\n",
        "\"Fiskars , the World 's  1 Scissors Brand TM , recently won Learning -‹ Magazine 's 2011 Teachers ' Choice Award for the Classroom .\",\n",
        "\"Fiskars , the World 's  1 Scissors Brand TM , recently won Learning -« Magazine 's 2011 Teachers ' Choice Award for the Classroom .\",\n",
        "\n",
        "\n",
        "\n",
        "'The most loyal customers were found in the Bank of +_land , with an index of 8.0 .',\n",
        "'The most loyal customers were found in the Bank of +àland , with an index of 8.0 .',\n",
        "\n",
        "'President and CEO Mika Vehvil+ñinen says the positive signs are first and foremost emerging outside Finland .',\n",
        "'President and CEO Mika Vehvil+Æinen says the positive signs are first and foremost emerging outside Finland .',\n",
        "\n",
        "\n",
        "\n",
        "'According to Finnish insurance companies Tapiola , Local Insurance Group ( L+Æhivakuutus ) , and Pohjola the two fierce storms at the end of July and in the beginning of August 2010 that felled trees around Finland have speeded up sales of forest insurance .',\n",
        "'According to Finnish insurance companies Tapiola , Local Insurance Group ( L+ñhivakuutus ) , and Pohjola the two fierce storms at the end of July and in the beginning of August 2010 that felled trees around Finland have speeded up sales of forest insurance .',\n",
        "\n",
        "\n",
        "\n",
        "'H+_kan Dahlstr+¦m , head of mobility services at TeliaSonera , has forecast that mobile data volume on the TeliaSonera network in Sweden will rise eight-fold to 200,000 TB by 2014 .',\n",
        "'H+Ñkan Dahlstr+ m , head of mobility services at TeliaSonera , has forecast that mobile data volume on the TeliaSonera network in Sweden will rise eight-fold to 200,000 TB by 2014 .',\n",
        "\n",
        "\n",
        "\"Finnish Metso will supply new wood handling and bleaching lines , as well as a rebuild of the kraft liner washing line for Klabin 's Tel+—maco Borba mill in the Brazilian state of Paran+è .\",\n",
        "\"Finnish Metso will supply new wood handling and bleaching lines , as well as a rebuild of the kraft liner washing line for Klabin 's Tel+¬maco Borba mill in the Brazilian state of Paran+í .\",\n",
        "\n",
        "\n",
        "'Finnish-owned contract manufacturer of electronics Elcoteq Hungary Kft has announced plans to recruit more than 650 new staffers to fulfill new orders in P+_cs , where the company has two plants .',\n",
        "'Finnish-owned contract manufacturer of electronics Elcoteq Hungary Kft has announced plans to recruit more than 650 new staffers to fulfill new orders in P+®cs , where the company has two plants .',\n",
        "\n",
        "\n",
        "\n",
        "'Finnish food industry companies HK Ruokatalo and Atria will form a joint venture company called L+Ænsi-Kalkkuna to produce turkey meat .',\n",
        "'Finnish food industry companies HK Ruokatalo and Atria will form a joint venture company called L+ñnsi-Kalkkuna to produce turkey meat .',\n",
        "\n",
        "\n",
        "\n",
        "'Etteplan targets to employ at least 20 people in Borl+Ænge .',\n",
        "'Etteplan targets to employ at least 20 people in Borl+ñnge .',\n",
        "\n",
        "\n",
        "'Finnish Bank of +_land +_landsbanken has issued a profit warning .',\n",
        "'Finnish Bank of +àland +àlandsbanken has issued a profit warning .'\n",
        "\n",
        "]"
      ],
      "metadata": {
        "id": "R9Mk9Uqh-jHJ"
      },
      "execution_count": null,
      "outputs": []
    },
    {
      "cell_type": "code",
      "execution_count": null,
      "metadata": {
        "id": "PbucH5nqs1gc"
      },
      "outputs": [],
      "source": [
        "df = pd.read_csv(financial_phrase_bank_loc, encoding='latin-1', names=['sentiment', 'text'], header=None)\n",
        "df.drop_duplicates(subset = 'text', inplace = True)\n",
        "\n",
        "print(len(df) - len(set(train_df['text'].values).intersection(set(df.text.values))))\n",
        "intersection = check_set_duplicates(df, 'text', train_df, 'text')\n",
        "df = df_no_duplicates(df, 'text', intersection)\n",
        "\n",
        "res = check_set_duplicates(df, 'text', dev_df, 'text')\n",
        "print(len(res))\n",
        "dev_df_duplicates = list(res)\n",
        "\n",
        "res = check_set_duplicates(eval_datasets['fpb_fiqa'], 'text', df, 'text')\n",
        "print(len(res))\n",
        "fbp_fiqa_duplicates = list(res)\n",
        "\n",
        "sentences = train_df_fpb_df_duplicates + fpb_df_train_df_duplicates + fbp_df_dev_df + fpb_df_fbp_fiqa_df + dev_df_duplicates + fbp_fiqa_duplicates\n",
        "sentences = list(set(sentences))\n",
        "sentences = [s.lower() for s in sentences]\n",
        "df = df_no_duplicates(df, 'text', sentences)\n",
        "\n",
        "save_dataset('fpb.csv', df, 'source', drive_loc)"
      ]
    },
    {
      "cell_type": "markdown",
      "source": [
        "## Sentfin"
      ],
      "metadata": {
        "id": "NL8dR66pjEi_"
      }
    },
    {
      "cell_type": "code",
      "source": [
        "def parse_sentence(sent):\n",
        "  sentences = sent.split(',')\n",
        "  sentiments = [s.replace('\"', '').replace(\"{\", '').replace('}', '').split(\": \")[-1] for s in sentences]\n",
        "\n",
        "  if set(sentiments) == 1:\n",
        "    return sentiments[0]\n",
        "  else:\n",
        "    if 'positive' in sentiments and 'negative' in sentiments:\n",
        "      return 'neutral'\n",
        "    elif 'positive' in sentiments:\n",
        "      return 'positive'\n",
        "    elif 'negative' in sentiments:\n",
        "      return 'negative'\n",
        "    else:\n",
        "      return 'neutral'"
      ],
      "metadata": {
        "id": "v1Dp0fqvjLUZ"
      },
      "execution_count": null,
      "outputs": []
    },
    {
      "cell_type": "code",
      "source": [
        "import pandas as pd\n",
        "sentfin = pd.read_csv(sentfin_loc)\n",
        "\n",
        "sentfin.drop_duplicates(subset='Title', inplace=True)\n",
        "\n",
        "sentfin[\"Decisions\"] = sentfin['Decisions'].apply(lambda x: parse_sentence(x))\n",
        "\n",
        "sentfin_neutral = sentfin[sentfin['Decisions'] == 'neutral']\n",
        "sentfin_neutral.drop(labels=['S No.', 'Words'], axis=1, inplace = True)\n",
        "sentfin_neutral.columns = ['text', 'sentiment']"
      ],
      "metadata": {
        "id": "GDqtdehajLUa"
      },
      "execution_count": null,
      "outputs": []
    },
    {
      "cell_type": "code",
      "source": [
        "data_df = pd.read_csv(fpb_fiqa_loc)\n",
        "data_df.columns = ['text', 'sentiment']\n",
        "\n",
        "data_df_neutral = data_df[data_df['sentiment'] == 'neutral']\n",
        "\n",
        "mix = sentfin_neutral.append(data_df_neutral, ignore_index=True)\n",
        "\n",
        "r = check_set_duplicates(train_df, 'text', mix, 'text')\n",
        "print(len(r))\n",
        "mix = df_no_duplicates(mix, 'text', list(r))\n",
        "print(len(mix))\n",
        "\n",
        "mix.drop_duplicates(subset='text', inplace=True)"
      ],
      "metadata": {
        "id": "2HSKIZC5tgcG"
      },
      "execution_count": null,
      "outputs": []
    },
    {
      "cell_type": "code",
      "source": [
        "for eval_df in eval_datasets.keys():\n",
        "  print(eval_df)\n",
        "  r = check_set_duplicates(eval_datasets[eval_df], 'text', mix, 'text')\n",
        "  print(len(r))\n",
        "  mix = df_no_duplicates(mix, 'text', list(r))\n",
        "  print(len(mix))"
      ],
      "metadata": {
        "id": "FIEKhvrFkz55"
      },
      "execution_count": null,
      "outputs": []
    },
    {
      "cell_type": "code",
      "execution_count": null,
      "metadata": {
        "id": "GtA03R75kz58"
      },
      "outputs": [],
      "source": [
        "import preprocessor as p\n",
        "p.set_options(p.OPT.URL, p.OPT.EMOJI, p.OPT.MENTION, p.OPT.RESERVED, p.OPT.SMILEY)\n",
        "\n",
        "mix['text'] = mix['text'].apply(lambda t: p.clean(t))\n",
        "\n",
        "save_dataset('fpb_fiqa_sentfin_all_neutral.csv', mix, 'source', drive_loc)"
      ]
    },
    {
      "cell_type": "markdown",
      "source": [
        "# Loghran-McDonald"
      ],
      "metadata": {
        "id": "aaty7bWSPAwu"
      }
    },
    {
      "cell_type": "code",
      "source": [
        "lmd_master_dictionary = pd.read_csv(loughran_mcdonald_loc)\n",
        "\n",
        "# extracting negative words from the Master dictionary\n",
        "negative_lmd = lmd_master_dictionary[lmd_master_dictionary['Negative'] != 0]\n",
        "print(len(negative_lmd))\n",
        "\n",
        "# extracting positive words from the Master dictionary\n",
        "positive_lmd = lmd_master_dictionary[lmd_master_dictionary['Positive'] != 0]\n",
        "print(len(positive_lmd))\n",
        "\n",
        "# keeping just the word column\n",
        "positive_lmd = pd.DataFrame(positive_lmd.iloc[:,0].values, columns=['word'])\n",
        "negative_lmd = pd.DataFrame(negative_lmd.iloc[:,0].values, columns=['word'])\n",
        "\n",
        "# saving the positive and negative LMD words\n",
        "save_dataset('lmd_positive_words.csv', positive_lmd, 'source', drive_loc)\n",
        "save_dataset('lmd_negative_words.csv', negative_lmd, 'source', drive_loc)"
      ],
      "metadata": {
        "id": "7LhKEprLQmiG"
      },
      "execution_count": null,
      "outputs": []
    }
  ]
}